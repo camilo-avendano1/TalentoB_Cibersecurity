{
 "cells": [
  {
   "cell_type": "code",
   "execution_count": 1,
   "metadata": {},
   "outputs": [
    {
     "name": "stdout",
     "output_type": "stream",
     "text": [
      "hello TalentoB\n"
     ]
    }
   ],
   "source": [
    "print(\"hello TalentoB\")"
   ]
  },
  {
   "cell_type": "code",
   "execution_count": 2,
   "metadata": {},
   "outputs": [],
   "source": [
    "import pandas as pd"
   ]
  },
  {
   "cell_type": "code",
   "execution_count": 3,
   "metadata": {},
   "outputs": [
    {
     "name": "stderr",
     "output_type": "stream",
     "text": [
      "C:\\Users\\juanc\\AppData\\Local\\Temp\\ipykernel_11792\\1414497862.py:30: UserWarning: Could not infer format, so each element will be parsed individually, falling back to `dateutil`. To ensure parsing is consistent and as-expected, please specify a format.\n",
      "  df['msgtimestamp'] = pd.to_datetime(df['msgtimestamp'], errors='coerce')\n",
      "C:\\Users\\juanc\\AppData\\Local\\Temp\\ipykernel_11792\\1414497862.py:31: UserWarning: Could not infer format, so each element will be parsed individually, falling back to `dateutil`. To ensure parsing is consistent and as-expected, please specify a format.\n",
      "  df['msgtimestamp_col'] = pd.to_datetime(df['msgtimestamp_col'], errors='coerce')\n"
     ]
    }
   ],
   "source": [
    "import pandas as pd\n",
    "\n",
    "with open('LZ_Datos_Dummy_TalentoB.txt', 'r') as file:\n",
    "    lines = file.readlines()\n",
    "\n",
    "columns = ['id', 'fecha', 'eventid', 'msgtimestamp', 'computer', 'accountname', 'lastusercharacter',\n",
    "           'newlogonaccountname', 'newlastusercharacter', 'accountdomain', 'newlogonaccountdomain',\n",
    "           'logontype', 'logonprocess', 'authenticationpackage', 'transitedservices', 'packagenamentlmonly',\n",
    "           'keylength', 'callerprocessid', 'callerprocessname', 'failaccountname', 'failaccountdomain',\n",
    "           'logonid', 'sourceport', 'status', 'workstationname', 'ciudad', 'day', 'month', 'year',\n",
    "           'year_event', 'month_event', 'day_event', 'hour_event', 'minutes_event', 'seconds_event',\n",
    "           'dayweekname', 'dayweeknumber', 'festivo', 'msgtimestamp_col']\n",
    "\n",
    "data = {col: [] for col in columns}\n",
    "\n",
    "# Procesar cada línea del archivo\n",
    "for line in lines:\n",
    "    items = line.split('#')\n",
    "    for i, col in enumerate(columns):\n",
    "        value = items[i].split()[-1].strip()\n",
    "        # Verificar si el valor es igual al nombre de la columna y reemplazar por \"-\"\n",
    "        data[col].append('-' if value == col else value)\n",
    "\n",
    "df = pd.DataFrame(data)\n",
    "\n",
    "# Corregir el formato de la columna 'fecha'\n",
    "df['fecha'] = pd.to_datetime(df['fecha'].str.replace('fecha ', ''), format='%Y%m%d', errors='coerce')\n",
    "\n",
    "# Convertir columnas de fecha y hora a tipos de datos adecuados\n",
    "df['msgtimestamp'] = pd.to_datetime(df['msgtimestamp'], errors='coerce')\n",
    "df['msgtimestamp_col'] = pd.to_datetime(df['msgtimestamp_col'], errors='coerce')\n",
    "\n",
    "# Guardar el DataFrame en un archivo Excel\n",
    "df.to_excel('output.xlsx', index=False, header=True)\n",
    "\n",
    "\n",
    "\n",
    "\n",
    "\n"
   ]
  }
 ],
 "metadata": {
  "kernelspec": {
   "display_name": "venv",
   "language": "python",
   "name": "python3"
  },
  "language_info": {
   "codemirror_mode": {
    "name": "ipython",
    "version": 3
   },
   "file_extension": ".py",
   "mimetype": "text/x-python",
   "name": "python",
   "nbconvert_exporter": "python",
   "pygments_lexer": "ipython3",
   "version": "3.12.0"
  }
 },
 "nbformat": 4,
 "nbformat_minor": 2
}
